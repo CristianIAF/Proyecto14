{
  "nbformat": 4,
  "nbformat_minor": 0,
  "metadata": {
    "colab": {
      "provenance": []
    },
    "kernelspec": {
      "name": "python3",
      "display_name": "Python 3"
    },
    "language_info": {
      "name": "python"
    }
  },
  "cells": [
    {
      "cell_type": "markdown",
      "source": [
        "14 - Un equipo de científicos de datos está estudiando la diversidad biológica en un bosque. El equipo recopiló información sobre el número de especies de plantas y animales en cada área del bosque y almacenó estos datos en un diccionario. En él, la clave describe el área de los datos y los valores en las listas corresponden a las especies de plantas y animales en esas áreas, respectivamente.\n",
        "\n",
        "{'Área Norte': [2819, 7236], 'Área Leste': [1440, 9492], 'Área Sul': [5969, 7496], 'Área Oeste': [14446, 49688], 'Área Centro': [22558, 45148]}\n",
        "\n",
        "Escribe un código para calcular el promedio de especies por área e identificar el área con la mayor diversidad biológica. Sugerencia: utiliza las funciones incorporadas sum() y len()."
      ],
      "metadata": {
        "id": "kSyPAa2Bm-aF"
      }
    },
    {
      "cell_type": "code",
      "source": [
        "diversidad_biologica = {\n",
        "    'Área Norte': [2819, 7236],\n",
        "    'Área Leste': [1440, 9492],\n",
        "    'Área Sul': [5969, 7496],\n",
        "    'Área Oeste': [14446, 49688],\n",
        "    'Área Centro': [22558, 45148]\n",
        "}\n",
        "\n",
        "# Calcular el promedio de especies totales por área en todo el bosque\n",
        "totales_por_area = [sum (especies) for especies in diversidad_biologica.values()]\n",
        "promedio_general = sum(totales_por_area) / len(diversidad_biologica)\n",
        "\n",
        "# Encontrar el área con el mayor total de especies (plantas + animales)\n",
        "area_mayor_diversidad = max(diversidad_biologica, key = lambda k: sum(diversidad_biologica[k]))\n",
        "\n",
        "print(f\"Promedio de especies por área: {promedio_general:.2f}\")\n",
        "print(f\"Área con mayor diversidad biológica: {area_mayor_diversidad}\")"
      ],
      "metadata": {
        "colab": {
          "base_uri": "https://localhost:8080/"
        },
        "id": "LBfKOL8gnJBp",
        "outputId": "eee834f5-0764-4e65-9a33-9748cc2beb2b"
      },
      "execution_count": 1,
      "outputs": [
        {
          "output_type": "stream",
          "name": "stdout",
          "text": [
            "Promedio de especies por área: 33258.40\n",
            "Área con mayor diversidad biológica: Área Centro\n"
          ]
        }
      ]
    }
  ]
}